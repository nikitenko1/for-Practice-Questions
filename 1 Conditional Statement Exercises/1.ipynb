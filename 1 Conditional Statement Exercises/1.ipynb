{
  "cells": [
    {
      "cell_type": "markdown",
      "id": "50a97490",
      "metadata": {
        "id": "50a97490"
      },
      "source": [
        "<p style=\"font-family:Roboto; font-size: 28px; color: magenta\"> Python Conditional Statement Exercises</p>"
      ]
    },
    {
      "cell_type": "markdown",
      "id": "4df2810b",
      "metadata": {
        "id": "4df2810b"
      },
      "source": [
        "<p style=\"font-family:Roboto; font-size: 22px; color: orange; text-decoration-line: overline; \"> Part 1 : _Mark Even and Odd</p>"
      ]
    },
    {
      "cell_type": "code",
      "execution_count": null,
      "id": "734de1db",
      "metadata": {},
      "outputs": [],
      "source": [
        "'''\n",
        "Your task is to complete the function checkOddEven(), which returns True (In python, True starts with caps T) \n",
        "if the number is even, \n",
        "else return False (In Python, False starts with caps F)\n",
        "'''"
      ]
    },
    {
      "cell_type": "code",
      "execution_count": 1,
      "id": "8cc7ed5c",
      "metadata": {
        "id": "8cc7ed5c"
      },
      "outputs": [],
      "source": [
        "def checkOddEven(x):\n",
        "    if (x % 2 == 0):\n",
        "        # Complete the statement below\n",
        "        return True\n",
        "\n",
        "    else:\n",
        "        # Complete the statement below\n",
        "        return False "
      ]
    },
    {
      "cell_type": "markdown",
      "id": "893c8857",
      "metadata": {},
      "source": [
        "<p style=\"font-family:Roboto; font-size: 22px; color: orange; text-decoration-line: overline; \"> Part 2 : _Check the status of Integer</p>"
      ]
    },
    {
      "cell_type": "code",
      "execution_count": null,
      "id": "178c0421",
      "metadata": {},
      "outputs": [],
      "source": [
        "'''\n",
        "Given two integer variables a and b, and a boolean variable flag. \n",
        "The task is to check the status and return accordingly.\n",
        "\n",
        "Return True for the following cases:\n",
        "\n",
        "Either a or b (not both) is non-negative and the flag is false.\n",
        "Both a and b are negative and the flag is true.\n",
        "Otherwise, return False.\n",
        "'''"
      ]
    },
    {
      "cell_type": "code",
      "execution_count": null,
      "id": "f7bdc543",
      "metadata": {},
      "outputs": [],
      "source": [
        "class Solution:\n",
        "\n",
        "    def checkStatus(self, a, b, flag):\n",
        "        # code here\n",
        "        if (a>=0 and b<0 and flag==False):\n",
        "            return True\n",
        "        elif (a<0 and b>=0 and flag==False):\n",
        "            return True\n",
        "        elif (a<0 and b<0 and flag==True):\n",
        "            return True\n",
        "        else:\n",
        "            return False\n",
        "           \n"
      ]
    },
    {
      "cell_type": "markdown",
      "id": "2107c3b6",
      "metadata": {},
      "source": [
        "<p style=\"font-family:Roboto; font-size: 22px; color: orange; text-decoration-line: overline; \"> Part: _Examples</p>"
      ]
    },
    {
      "cell_type": "code",
      "execution_count": 25,
      "id": "8c716c0e",
      "metadata": {},
      "outputs": [
        {
          "name": "stdout",
          "output_type": "stream",
          "text": [
            "True\n",
            "True\n",
            "False\n"
          ]
        }
      ],
      "source": [
        "my_car = Solution()\n",
        "'''\n",
        "Input: a = 1, b = -1, flag = False\n",
        "Output: True\n",
        "Explanation: Since a is positive, b is negative, and flag is False, condition 1 holds true, so the function returns True.\n",
        "'''\n",
        "print(my_car.checkStatus(a = 1, b = -1, flag = False))\n",
        "'''\n",
        "Input: a = -182, b = -9121, flag = True\n",
        "Output: True\n",
        "Explanation: Since both a and b are negative and flag is True, condition 2 holds true, so the function returns True.\n",
        "'''\n",
        "print(my_car.checkStatus(a = -182, b = -9121, flag = True))\n",
        "'''\n",
        "Input: a = 5, b = 3, flag = True\n",
        "Output: False\n",
        "Explanation: Neither condition 1 nor condition 2 holds, so the function returns False.\n",
        "'''\n",
        "print(my_car.checkStatus(a = 5, b = 3, flag = True))"
      ]
    },
    {
      "cell_type": "markdown",
      "id": "b9c37628",
      "metadata": {},
      "source": [
        "<p style=\"font-family:Roboto; font-size: 22px; color: orange; text-decoration-line: overline; \"> Part 3 : _Trouble with Angry Friends</p>"
      ]
    },
    {
      "cell_type": "code",
      "execution_count": null,
      "id": "9cf4994d",
      "metadata": {},
      "outputs": [],
      "source": [
        "'''There are two friends, John and Smith, and the parameters j_angry and s_angry to indicate if each is angry. \n",
        "You are in trouble if both of them are angry or no one of them is angry.'''\n",
        "\n",
        "'''You are familiar with basics of input/output and many other useful things in Python. \n",
        "This module is all about conditional statements like if, elif, else; for, while, etc.'''"
      ]
    },
    {
      "cell_type": "code",
      "execution_count": null,
      "id": "05da1df5",
      "metadata": {},
      "outputs": [],
      "source": [
        "def friends_in_trouble(j_angry, s_angry):\n",
        "    if (j_angry==False and s_angry==True):\n",
        "        return False\n",
        "    elif (j_angry==True and s_angry==False):\n",
        "        return False\n",
        "    else:\n",
        "        return True"
      ]
    },
    {
      "cell_type": "markdown",
      "id": "13124878",
      "metadata": {},
      "source": [
        "<p style=\"font-family:Roboto; font-size: 22px; color: orange; text-decoration-line: overline; \"> Part 4: _Check for Equal Occurrences of 'cat' and 'hat' in a String</p>"
      ]
    },
    {
      "cell_type": "code",
      "execution_count": null,
      "id": "d00f4614",
      "metadata": {},
      "outputs": [],
      "source": [
        "'''\n",
        "You are given a string str, you need to return True if  the words \"cat\" and \"hat\" appear same number of times in str, \n",
        "otherwise return False.\n",
        "Note: str contains only lowercase English alphabets.\n",
        "'''"
      ]
    },
    {
      "cell_type": "code",
      "execution_count": 27,
      "id": "293b2f77",
      "metadata": {},
      "outputs": [],
      "source": [
        "def cat_hat(str):\n",
        "  ##your code here##\n",
        "  ##You need to write complete code this time \n",
        "    cat = str.count('cat')\n",
        "    hat = str.count('hat')\n",
        "    if(cat == hat):\n",
        "        return True\n",
        "    return False"
      ]
    },
    {
      "cell_type": "code",
      "execution_count": 29,
      "id": "ce327e23",
      "metadata": {},
      "outputs": [
        {
          "data": {
            "text/plain": [
              "True"
            ]
          },
          "execution_count": 29,
          "metadata": {},
          "output_type": "execute_result"
        }
      ],
      "source": [
        "cat_hat(\"catinahat\")"
      ]
    },
    {
      "cell_type": "code",
      "execution_count": 30,
      "id": "c31a1f63",
      "metadata": {},
      "outputs": [
        {
          "data": {
            "text/plain": [
              "True"
            ]
          },
          "execution_count": 30,
          "metadata": {},
          "output_type": "execute_result"
        }
      ],
      "source": [
        "cat_hat(\"bazingaa\")"
      ]
    },
    {
      "cell_type": "markdown",
      "id": "2f1379a7",
      "metadata": {},
      "source": [
        "<p style=\"font-family:Roboto; font-size: 22px; color: orange; text-decoration-line: overline; \"> Part 5: _Conditional Boolean Evaluation</p>"
      ]
    },
    {
      "cell_type": "code",
      "execution_count": null,
      "id": "9d8c39d1",
      "metadata": {},
      "outputs": [],
      "source": [
        "'''\n",
        "Writing for loop in Python is a tad different from C++ and Java counterparts. \n",
        "In this question, we'll learn to print table by using the for loop.\n",
        "\n",
        "You are given a number N, you need to print its multiplication table.\n",
        "\n",
        "Note: Please go through the range function to understand why it's useful in for loops.\n",
        "'''"
      ]
    },
    {
      "cell_type": "code",
      "execution_count": 134,
      "id": "46e5773d",
      "metadata": {},
      "outputs": [],
      "source": [
        "def multiplicationTable(N):\n",
        "    for i in range(1,11): \n",
        "        print(i * N, end=\" \")"
      ]
    },
    {
      "cell_type": "code",
      "execution_count": 135,
      "id": "74caa12e",
      "metadata": {},
      "outputs": [
        {
          "name": "stdout",
          "output_type": "stream",
          "text": [
            "5 10 15 20 25 30 35 40 45 50 "
          ]
        }
      ],
      "source": [
        "multiplicationTable(5)"
      ]
    },
    {
      "cell_type": "markdown",
      "id": "352308b7",
      "metadata": {},
      "source": [
        "<p style=\"font-family:Roboto; font-size: 22px; color: orange; text-decoration-line: overline; \"> Part 6: _Print Characters at Even Indices in a String</p>"
      ]
    },
    {
      "cell_type": "code",
      "execution_count": null,
      "id": "84a499ab",
      "metadata": {},
      "outputs": [],
      "source": [
        "'''\n",
        "Welcome to the part 2 of For Loops in Python. In this question, we'll learn to print characters of a string at even indices.\n",
        "\n",
        "You are given a string str, you need to print its characters at even indices(index starts at 0).\n",
        "\n",
        "Note: Please go through the range function to understand how to jump 2 steps.\n",
        "'''"
      ]
    },
    {
      "cell_type": "code",
      "execution_count": null,
      "id": "363894c6",
      "metadata": {},
      "outputs": [],
      "source": [
        "def stringJumper(str):\n",
        "\n",
        "    for i in range(0, len(str), 2): ## from 0 to length of str and skip 2\n",
        " \n",
        "        print(str[i], end=\"\")  ##printing character and separating characters by nothing"
      ]
    },
    {
      "cell_type": "code",
      "execution_count": 161,
      "id": "431071fe",
      "metadata": {},
      "outputs": [],
      "source": [
        "stringJumper(\"DoctorPhenomenal\")"
      ]
    },
    {
      "cell_type": "markdown",
      "id": "82648b26",
      "metadata": {},
      "source": [
        "<p style=\"font-family:Roboto; font-size: 22px; color: orange; text-decoration-line: overline; \"> Part 7: _Print Numbers in Decreasing Order</p>"
      ]
    },
    {
      "cell_type": "code",
      "execution_count": null,
      "id": "4257b27c",
      "metadata": {},
      "outputs": [],
      "source": [
        "'''\n",
        "Let's get it more clearly through this question. Given a number x, \n",
        "the task is to print the numbers from x to 0 in decreasing order in a single line.\n",
        "'''"
      ]
    },
    {
      "cell_type": "code",
      "execution_count": null,
      "id": "ed9aa3fe",
      "metadata": {},
      "outputs": [],
      "source": [
        "# Function to print x in decreasing order\n",
        "def printInDecreasing(x):\n",
        "    # Complete the code below\n",
        "    while (x >= 0):\n",
        "\n",
        "        # your statement below to print the number\n",
        "        # in decreasing order\n",
        "        # Note: use end=\" \" parameter with print to seperate numbers by space.\n",
        "        ##Output for testcases will automatically separated by a new line by the print() in driver code\n",
        "        print(x, end=\" \")  ##printing character and separating characters by nothing\n",
        " \n",
        "        x -= 1"
      ]
    },
    {
      "cell_type": "code",
      "execution_count": 159,
      "id": "8362d537",
      "metadata": {},
      "outputs": [
        {
          "name": "stdout",
          "output_type": "stream",
          "text": [
            "3 2 1 0 "
          ]
        }
      ],
      "source": [
        "printInDecreasing(3)"
      ]
    },
    {
      "cell_type": "markdown",
      "id": "d24c7f31",
      "metadata": {},
      "source": [
        "<p style=\"font-family:Roboto; font-size: 22px; color: orange; text-decoration-line: overline; \"> Part 8: _Jumping through While</p>"
      ]
    },
    {
      "cell_type": "code",
      "execution_count": null,
      "id": "26c6741b",
      "metadata": {},
      "outputs": [],
      "source": [
        "'''\n",
        "Now you are familiar with While loop in Python. Let's get deeper into understanding it through below question.\n",
        "\n",
        "Given a positive integer x, \n",
        "the task is to print the numbers from 1 to x in the order as 12, 22, 32, 42, 52, ... (in increasing order).\n",
        "'''"
      ]
    },
    {
      "cell_type": "code",
      "execution_count": 186,
      "id": "a116e795",
      "metadata": {},
      "outputs": [],
      "source": [
        "# Function to print x in increasing order\n",
        "def printIncreasingPower(x):\n",
        "    ##Your code here\n",
        "    i = 1\n",
        "   \n",
        "    # Loop to jump in powers of 2\n",
        "    while(pow(i, 2) <= x):\n",
        "        ##Your code here\n",
        "        # Using the pow() Function\n",
        "        print ( pow(i, 2), end = \" \")\n",
        "        \n",
        "        ##Your code here\n",
        "        i = i + 1"
      ]
    },
    {
      "cell_type": "code",
      "execution_count": 187,
      "id": "253b423a",
      "metadata": {},
      "outputs": [
        {
          "name": "stdout",
          "output_type": "stream",
          "text": [
            "1 4 9 "
          ]
        }
      ],
      "source": [
        "printIncreasingPower(10)"
      ]
    },
    {
      "cell_type": "markdown",
      "id": "4f43927b",
      "metadata": {},
      "source": [
        "<p style=\"font-family:Roboto; font-size: 22px; color: orange; text-decoration-line: overline; \"> Part 9: _Zero Converter</p>"
      ]
    },
    {
      "cell_type": "code",
      "execution_count": null,
      "id": "fe8c98a9",
      "metadata": {},
      "outputs": [],
      "source": [
        "'''\n",
        "You are given a number n. The number n can be negative or positive. \n",
        "If n is negative, print numbers from n to 0 by adding 1 to n in the neg function. \n",
        "If positive, print numbers from n-1 to 0 by subtracting 1 from n in the pos function.\n",
        "\n",
        "Note:- You don't have to return anything, you just have to print the array.\n",
        "'''"
      ]
    },
    {
      "cell_type": "code",
      "execution_count": null,
      "id": "2f47f49d",
      "metadata": {},
      "outputs": [],
      "source": [
        "def pos(n):\n",
        "    ## Write the code\n",
        "    while (n-1 >= 0):       \n",
        "        print(n-1, end=\" \")  ##printing character and separating characters by nothing\n",
        " \n",
        "        n -= 1\n",
        "    \n",
        "def neg(n):\n",
        "    ##Write the code\n",
        "    while (n <= 0):       \n",
        "        print(n, end=\" \")  ##printing character and separating characters by nothing\n",
        " \n",
        "        n += 1"
      ]
    },
    {
      "cell_type": "markdown",
      "id": "524213c4",
      "metadata": {},
      "source": [
        "<p style=\"font-family:Roboto; font-size: 28px; color: magenta\"> Python Conditional Statement Exercises</p>"
      ]
    },
    {
      "cell_type": "markdown",
      "id": "78551145",
      "metadata": {},
      "source": [
        "<p style=\"font-family:Roboto; font-size: 22px; color: orange; text-decoration-line: overline; \"> Part: _Check if a Number is Odd or Even</p>"
      ]
    },
    {
      "cell_type": "code",
      "execution_count": 195,
      "id": "fffbb61c",
      "metadata": {},
      "outputs": [],
      "source": [
        "def isOddorEven(x):\n",
        "    # Check the remainder dividing x by 2 is 0\n",
        "    if x % 2 == 0:\n",
        "        print(\"Even\")\n",
        "    else:\n",
        "        print(\"Odd\")"
      ]
    },
    {
      "cell_type": "code",
      "execution_count": 194,
      "id": "8595be5b",
      "metadata": {},
      "outputs": [
        {
          "name": "stdout",
          "output_type": "stream",
          "text": [
            "Odd\n",
            "Even\n"
          ]
        },
        {
          "data": {
            "text/plain": [
              "(None, None)"
            ]
          },
          "execution_count": 194,
          "metadata": {},
          "output_type": "execute_result"
        }
      ],
      "source": [
        "isOddorEven(7), isOddorEven(12),"
      ]
    },
    {
      "cell_type": "markdown",
      "id": "790a9c94",
      "metadata": {},
      "source": [
        "<p style=\"font-family:Roboto; font-size: 22px; color: orange; text-decoration-line: overline; \"> Part: _Program to Print the Natural Numbers</p>"
      ]
    },
    {
      "cell_type": "code",
      "execution_count": 197,
      "id": "1f9b95e1",
      "metadata": {},
      "outputs": [],
      "source": [
        "def inputNaturalNumber(number):\n",
        "     \n",
        "    # j ranges from 1 to n\n",
        "    for j in range(1, number+1):\n",
        "\n",
        "        # Initializing List\n",
        "        a = []\n",
        "\n",
        "        # i loop ranges from 1 to j\n",
        "        for i in range(1, j+1):\n",
        "            print(i, sep=\" \", end=\" \")\n",
        "            if(i < j):\n",
        "                print(\"+\", sep=\" \", end=\" \")\n",
        "            a.append(i)\n",
        "        print(\"=\", sum(a))\n",
        "\n",
        "    print()"
      ]
    },
    {
      "cell_type": "code",
      "execution_count": 198,
      "id": "b6040736",
      "metadata": {},
      "outputs": [
        {
          "name": "stdout",
          "output_type": "stream",
          "text": [
            "1 = 1\n",
            "1 + 2 = 3\n",
            "1 + 2 + 3 = 6\n",
            "1 + 2 + 3 + 4 = 10\n",
            "1 + 2 + 3 + 4 + 5 = 15\n",
            "1 + 2 + 3 + 4 + 5 + 6 = 21\n",
            "1 + 2 + 3 + 4 + 5 + 6 + 7 = 28\n",
            "\n"
          ]
        }
      ],
      "source": [
        "inputNaturalNumber(7)"
      ]
    },
    {
      "cell_type": "markdown",
      "id": "83187b74",
      "metadata": {},
      "source": [
        "<p style=\"font-family:Roboto; font-size: 22px; color: orange; text-decoration-line: overline; \"> Part: _Check Prime Number</p>"
      ]
    },
    {
      "cell_type": "code",
      "execution_count": null,
      "id": "f7bffb90",
      "metadata": {},
      "outputs": [],
      "source": [
        "'''Given a positive integer N, the task is to write a Python program to check if the number is Prime or not in Python. \n",
        "For example, given a number 29, it has no divisors other than 1 and 29 itself. Hence, it is a prime number.'''"
      ]
    },
    {
      "cell_type": "code",
      "execution_count": 200,
      "id": "dd2f92fb",
      "metadata": {},
      "outputs": [],
      "source": [
        "import math\n",
        "\n",
        "def checkPrimeNumber(number):\n",
        "    if number <= 1:\n",
        "        print(False)\n",
        "    else:\n",
        "        is_prime = True\n",
        "        for i in range(2, int(math.sqrt(number)) + 1):\n",
        "            if number % i == 0:\n",
        "                is_prime = False\n",
        "                break\n",
        "        print(is_prime)"
      ]
    },
    {
      "cell_type": "code",
      "execution_count": 202,
      "id": "a814fe89",
      "metadata": {},
      "outputs": [
        {
          "name": "stdout",
          "output_type": "stream",
          "text": [
            "True\n",
            "False\n",
            "False\n"
          ]
        },
        {
          "data": {
            "text/plain": [
              "(None, None, None)"
            ]
          },
          "execution_count": 202,
          "metadata": {},
          "output_type": "execute_result"
        }
      ],
      "source": [
        "checkPrimeNumber(29), checkPrimeNumber(28), checkPrimeNumber(27)"
      ]
    },
    {
      "cell_type": "markdown",
      "id": "6b792dc0",
      "metadata": {},
      "source": [
        "<p style=\"font-family:Roboto; font-size: 22px; color: orange; text-decoration-line: overline; \"> Part: _Printing Patterns in Python</p>"
      ]
    },
    {
      "cell_type": "code",
      "execution_count": 204,
      "id": "8ea54235",
      "metadata": {},
      "outputs": [],
      "source": [
        "'''\n",
        "Pyramid patterns are sequences of characters or numbers arranged in a way that resembles a pyramid, \n",
        "with each level having one more element than the level above. \n",
        "These patterns are often used for aesthetic purposes and in educational contexts to enhance programming skills.\n",
        "'''\n",
        "# Function to print full pyramid pattern\n",
        "def full_pyramid(n):\n",
        "    for i in range(1, n + 1):\n",
        "        # Print leading spaces\n",
        "        for j in range(n - i):\n",
        "            print(\" \", end=\"\")\n",
        "        \n",
        "        # Print asterisks for the current row\n",
        "        for k in range(1, 2*i):\n",
        "            print(\"*\", end=\"\")\n",
        "        print()\n",
        "   \n"
      ]
    },
    {
      "cell_type": "code",
      "execution_count": 205,
      "id": "3f3ce29d",
      "metadata": {},
      "outputs": [
        {
          "name": "stdout",
          "output_type": "stream",
          "text": [
            "    *\n",
            "   ***\n",
            "  *****\n",
            " *******\n",
            "*********\n"
          ]
        }
      ],
      "source": [
        "full_pyramid(5)"
      ]
    },
    {
      "cell_type": "code",
      "execution_count": null,
      "id": "edf6e7c3",
      "metadata": {},
      "outputs": [],
      "source": []
    }
  ],
  "metadata": {
    "accelerator": "GPU",
    "colab": {
      "gpuType": "T4",
      "provenance": []
    },
    "kernelspec": {
      "display_name": "base",
      "language": "python",
      "name": "python3"
    },
    "language_info": {
      "codemirror_mode": {
        "name": "ipython",
        "version": 3
      },
      "file_extension": ".py",
      "mimetype": "text/x-python",
      "name": "python",
      "nbconvert_exporter": "python",
      "pygments_lexer": "ipython3",
      "version": "3.12.7"
    }
  },
  "nbformat": 4,
  "nbformat_minor": 5
}
