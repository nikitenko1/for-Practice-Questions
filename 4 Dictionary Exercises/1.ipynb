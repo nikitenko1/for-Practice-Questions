{
  "cells": [
    {
      "cell_type": "markdown",
      "id": "50a97490",
      "metadata": {
        "id": "50a97490"
      },
      "source": [
        "<p style=\"font-family:Roboto; font-size: 28px; color: magenta\"> Python Set Exercises</p>"
      ]
    },
    {
      "cell_type": "markdown",
      "id": "4df2810b",
      "metadata": {
        "id": "4df2810b"
      },
      "source": [
        "<p style=\"font-family:Roboto; font-size: 22px; color: orange; text-decoration-line: overline; \"> Part 1 : _Implement Set in Python</p>"
      ]
    },
    {
      "cell_type": "code",
      "execution_count": null,
      "id": "b178434e",
      "metadata": {},
      "outputs": [],
      "source": [
        "'''\n",
        "A set is an unordered collection of items where every element is unique and must be immutable, but set is mutable. \n",
        "You cannot access an element of set using indexing or slicing, but you can update the set.\n",
        "'''"
      ]
    },
    {
      "cell_type": "code",
      "execution_count": null,
      "id": "734de1db",
      "metadata": {},
      "outputs": [],
      "source": [
        "'''\n",
        "Some important functions in Set in Python:\n",
        "add(): Adds an element to the set.\n",
        "clear(): Removes all elements from the set\n",
        "discard(): Removes an element from the set if present.\n",
        "remove(): Removes an element from the set. If the element is not present, it raises error.\n",
        "pop(): Removes and returns an arbitary set element. Raise error if the set is empty.\n",
        "union(): Returns the union of sets in a new set\n",
        "update(): Updates the set with the union of itself and others\n",
        "len(): Return the length of set.\n",
        "sorted(): Return a new sorted list from elements in the set.\n",
        "sum(): Return the sum of all elements in the set.\n",
        "'''"
      ]
    },
    {
      "cell_type": "code",
      "execution_count": null,
      "id": "9290ec7c",
      "metadata": {},
      "outputs": [],
      "source": [
        "#User function Template for python3\n",
        "\n",
        "# Function to insert\n",
        "# no return should be there, and no print statement\n",
        "def insert(s, element):\n",
        "    # Your code here\n",
        "    s.add(element)\n",
        "    \n",
        "    \n",
        "    \n",
        "\n",
        "# Function to remove element from set\n",
        "# No return and nothing to print\n",
        "def remove_from_set(s, element):\n",
        "    # Your code here\n",
        "    s.remove(element)\n",
        "    \n",
        "    \n",
        "    \n",
        "    \n",
        "# Function to find sum of elements in set\n",
        "# return value should be there as sum\n",
        "def sum_set(s):\n",
        "    # Your code here\n",
        "    return sum(s)\n",
        "    \n",
        "    "
      ]
    },
    {
      "cell_type": "markdown",
      "id": "fb30a822",
      "metadata": {},
      "source": [
        "<p style=\"font-family:Roboto; font-size: 22px; color: orange; text-decoration-line: overline; \"> Part 2 : _Set in Python - II</p>"
      ]
    },
    {
      "cell_type": "code",
      "execution_count": null,
      "id": "5bc413fe",
      "metadata": {},
      "outputs": [],
      "source": [
        "'''\n",
        "Now, let's move on to work on two sets using some inbuilt functions which are used widely. They are:\n",
        "\n",
        "union(): Used to find union() between two sets. It performs this using '|' operator.\n",
        "\n",
        "intersection(): Used to find intersection() between two sets. It performs this using '&' operator.\n",
        "\n",
        "difference(): Difference of A and B (A - B) is a set of elements that are only in A but not in B. \n",
        "Similarly for B - A holds the same.\n",
        "'''"
      ]
    },
    {
      "cell_type": "code",
      "execution_count": null,
      "id": "61b2c5d8",
      "metadata": {},
      "outputs": [],
      "source": [
        "'''\n",
        "Now, Given some elements in two sets a and b, the task is to find the elements:\n",
        "common in two sets, \n",
        "elements in both the sets, \n",
        "elements that are only in set a, not in b.\n",
        "'''"
      ]
    },
    {
      "cell_type": "code",
      "execution_count": null,
      "id": "2bdb2c74",
      "metadata": {},
      "outputs": [],
      "source": [
        "# Function to find common elements in sets\n",
        "# should return the intersection of sets\n",
        "def common_in_set(a, b):\n",
        "    # Your code here\n",
        "    return a.intersection(b)\n",
        "\n",
        "\n",
        "# Function to find difference in sets\n",
        "# Should return the difference in sets\n",
        "def diff(a, b):\n",
        "    # Your code here\n",
        "    return a.difference(b)\n",
        "\n",
        "\n",
        "# Function to find union of sets\n",
        "# Should return the union of sets\n",
        "def all_in_set(a, b):\n",
        "    # Your code here\n",
        "    return a.union(b)\n",
        "    "
      ]
    }
  ],
  "metadata": {
    "accelerator": "GPU",
    "colab": {
      "gpuType": "T4",
      "provenance": []
    },
    "kernelspec": {
      "display_name": "Python 3",
      "language": "python",
      "name": "python3"
    },
    "language_info": {
      "codemirror_mode": {
        "name": "ipython",
        "version": 3
      },
      "file_extension": ".py",
      "mimetype": "text/x-python",
      "name": "python",
      "nbconvert_exporter": "python",
      "pygments_lexer": "ipython3",
      "version": "3.12.7"
    }
  },
  "nbformat": 4,
  "nbformat_minor": 5
}
