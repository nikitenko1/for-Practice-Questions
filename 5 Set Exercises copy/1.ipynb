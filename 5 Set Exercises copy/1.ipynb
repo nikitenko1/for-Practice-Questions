{
  "cells": [
    {
      "cell_type": "markdown",
      "id": "50a97490",
      "metadata": {
        "id": "50a97490"
      },
      "source": [
        "<p style=\"font-family:Roboto; font-size: 28px; color: magenta\"> Python Dictionary Exercises</p>"
      ]
    },
    {
      "cell_type": "markdown",
      "id": "4df2810b",
      "metadata": {
        "id": "4df2810b"
      },
      "source": [
        "<p style=\"font-family:Roboto; font-size: 22px; color: orange; text-decoration-line: overline; \"> Part 1 : _Intro to Dictionary</p>"
      ]
    },
    {
      "cell_type": "code",
      "execution_count": null,
      "id": "734de1db",
      "metadata": {},
      "outputs": [],
      "source": [
        "'''\n",
        "Given a list of strings containing names of students and another list containing marks of corresponding students. \n",
        "The task is to create a dictionary to store marks of students with their names (name will be unique).\n",
        "'''"
      ]
    },
    {
      "cell_type": "code",
      "execution_count": null,
      "id": "9290ec7c",
      "metadata": {},
      "outputs": [],
      "source": [
        "'''\n",
        "Input: \n",
        "N = 5 \n",
        "names = [john, ala, ilia, sudan, mercy] \n",
        "marks = [100, 200, 150, 80, 300]\n",
        "Output:\n",
        "ala 200 \n",
        "ilia 150 \n",
        "john 100 \n",
        "mercy 300 \n",
        "sudan 80\n",
        "'''"
      ]
    },
    {
      "cell_type": "code",
      "execution_count": 1,
      "id": "8cc7ed5c",
      "metadata": {
        "id": "8cc7ed5c"
      },
      "outputs": [],
      "source": [
        "# Function to create dictionary\n",
        "# arr is list of tuple. tuple contain name and marks.\n",
        "\n",
        "\n",
        "def create_dict(arr):\n",
        "\n",
        "    dict1 = {}\n",
        "\n",
        "    # Your code here\n",
        "    # Hint: use loop to iterate through arr\n",
        "    # and assign key value to the dict\n",
        "    dict1 = dict(arr)\n",
        "    return dict1"
      ]
    },
    {
      "cell_type": "code",
      "execution_count": null,
      "id": "80bf4fe2",
      "metadata": {},
      "outputs": [
        {
          "data": {
            "text/plain": [
              "{'a': 1, 'b': 2, 'c': 3}"
            ]
          },
          "execution_count": 3,
          "metadata": {},
          "output_type": "execute_result"
        }
      ],
      "source": [
        "'''\n",
        "dict() function converts an iterable of key-value pairs, such as a list of tuples, into a dictionary\n",
        "'''\n",
        "arr = [(\"a\", 1), (\"b\", 2), (\"c\", 3)]\n",
        " \n",
        "create_dict(arr)"
      ]
    },
    {
      "cell_type": "markdown",
      "id": "b9c37628",
      "metadata": {},
      "source": [
        "<p style=\"font-family:Roboto; font-size: 22px; color: orange; text-decoration-line: overline; \"> Part 2: _Counting Element Frequencies</p>"
      ]
    },
    {
      "cell_type": "code",
      "execution_count": null,
      "id": "9cf4994d",
      "metadata": {},
      "outputs": [],
      "source": [
        "''' Input: arr[] = [1, 2, 3, 3, 5], sum = 8 \n",
        "Output: true\n",
        "Explanation: Pair with sum 8 is present in the array which is (3, 5).'''"
      ]
    },
    {
      "cell_type": "code",
      "execution_count": null,
      "id": "cc6da0b0",
      "metadata": {},
      "outputs": [],
      "source": [
        "'''Input: arr[] = [3, 2, 5], sum = 6 \n",
        "Output: false\n",
        "Explanation: No such pair exists in the array.'''"
      ]
    },
    {
      "cell_type": "code",
      "execution_count": null,
      "id": "05da1df5",
      "metadata": {},
      "outputs": [],
      "source": [
        "# Function to check if pair\n",
        "# with given sum exists\n",
        "def pair_sum(dict, arr, sum):\n",
        "    # code here\n",
        "    # Hint: You can use 'in' to find if any key is in dict\n",
        "    n = len(arr)\n",
        "    for i in range(n-1):\n",
        "        for j in range(i+1, n):\n",
        "            if arr[i] + arr[j] == sum:\n",
        "                return True\n",
        "    return False"
      ]
    },
    {
      "cell_type": "code",
      "execution_count": null,
      "id": "5bc413fe",
      "metadata": {},
      "outputs": [],
      "source": []
    }
  ],
  "metadata": {
    "accelerator": "GPU",
    "colab": {
      "gpuType": "T4",
      "provenance": []
    },
    "kernelspec": {
      "display_name": "Python 3",
      "language": "python",
      "name": "python3"
    },
    "language_info": {
      "codemirror_mode": {
        "name": "ipython",
        "version": 3
      },
      "file_extension": ".py",
      "mimetype": "text/x-python",
      "name": "python",
      "nbconvert_exporter": "python",
      "pygments_lexer": "ipython3",
      "version": "3.12.7"
    }
  },
  "nbformat": 4,
  "nbformat_minor": 5
}
