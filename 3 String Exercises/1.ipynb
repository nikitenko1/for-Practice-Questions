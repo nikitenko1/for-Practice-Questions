{
  "cells": [
    {
      "cell_type": "markdown",
      "id": "50a97490",
      "metadata": {
        "id": "50a97490"
      },
      "source": [
        "<p style=\"font-family:Roboto; font-size: 28px; color: magenta\"> Python List Exercises</p>"
      ]
    },
    {
      "cell_type": "markdown",
      "id": "4df2810b",
      "metadata": {
        "id": "4df2810b"
      },
      "source": [
        "<p style=\"font-family:Roboto; font-size: 22px; color: orange; text-decoration-line: overline; \"> Part 1 : _Min and Max in Array</p>"
      ]
    },
    {
      "cell_type": "code",
      "execution_count": null,
      "id": "734de1db",
      "metadata": {},
      "outputs": [],
      "source": [
        "'''\n",
        "Given an array arr. Your task is to find the minimum and maximum elements in the array.\n",
        "\n",
        "Note: Return a Pair that contains two elements the first one will be a minimum element and the second will be a maximum.\n",
        "'''"
      ]
    },
    {
      "cell_type": "code",
      "execution_count": null,
      "id": "9290ec7c",
      "metadata": {},
      "outputs": [],
      "source": [
        "'''\n",
        "Input: arr[] = [3, 2, 1, 56, 10000, 167]\n",
        "Output: 1 10000\n",
        "Explanation: minimum and maximum elements of array are 1 and 10000.\n",
        "'''"
      ]
    },
    {
      "cell_type": "code",
      "execution_count": 23,
      "id": "8cc7ed5c",
      "metadata": {
        "id": "8cc7ed5c"
      },
      "outputs": [],
      "source": [
        "#User function Template for python3\n",
        "#User function Template for python3\n",
        "\n",
        "class Solution:\n",
        "    def get_min_max(self, arr):\n",
        "        maximum = max(arr) \n",
        "        minimum = min(arr)\n",
        "        \n",
        "     \n",
        "        return (minimum, maximum) \n",
        "   \n"
      ]
    },
    {
      "cell_type": "code",
      "execution_count": 24,
      "id": "80bf4fe2",
      "metadata": {},
      "outputs": [
        {
          "data": {
            "text/plain": [
              "(1, 10000)"
            ]
          },
          "execution_count": 24,
          "metadata": {},
          "output_type": "execute_result"
        }
      ],
      "source": [
        "arr = [3, 2, 1, 56, 10000, 167]\n",
        "p1 = Solution()\n",
        "p1.get_min_max(arr)"
      ]
    },
    {
      "cell_type": "markdown",
      "id": "893c8857",
      "metadata": {},
      "source": [
        "<p style=\"font-family:Roboto; font-size: 22px; color: orange; text-decoration-line: overline; \"> Part 2 : _Union of two arrays</p>"
      ]
    },
    {
      "cell_type": "code",
      "execution_count": null,
      "id": "178c0421",
      "metadata": {},
      "outputs": [],
      "source": [
        "'''\n",
        "GGiven two arrays a[] and b[], the task is to find the number of elements in the union between these two arrays.\n",
        "\n",
        "The Union of the two arrays can be defined as the set containing distinct elements from both arrays. \n",
        "If there are repetitions, then only one element occurrence should be there in the union.\n",
        "\n",
        "Note: Elements of a[] and b[] are not necessarily distinct.\n",
        "'''"
      ]
    },
    {
      "cell_type": "code",
      "execution_count": null,
      "id": "135542c9",
      "metadata": {},
      "outputs": [],
      "source": [
        "'''\n",
        "Input: a[] = [1, 2, 3, 4, 5], b[] = [1, 2, 3]\n",
        "Output: 5\n",
        "Explanation: Union set of both the arrays will be 1, 2, 3, 4 and 5. So count is 5.\n",
        "'''"
      ]
    },
    {
      "cell_type": "code",
      "execution_count": 34,
      "id": "f7bdc543",
      "metadata": {},
      "outputs": [],
      "source": [
        "class Solution:    \n",
        "    def findUnion(self, a, b):\n",
        "        # code here\n",
        "        union_result = list(set(a) | set(b))\n",
        "        return len(union_result)   "
      ]
    },
    {
      "cell_type": "code",
      "execution_count": 35,
      "id": "db22dbab",
      "metadata": {},
      "outputs": [
        {
          "data": {
            "text/plain": [
              "5"
            ]
          },
          "execution_count": 35,
          "metadata": {},
          "output_type": "execute_result"
        }
      ],
      "source": [
        "a = [1, 2, 3, 4, 5]\n",
        "b = [1, 2, 3]\n",
        "p1 = Solution()\n",
        "p1.findUnion(a, b)"
      ]
    },
    {
      "cell_type": "markdown",
      "id": "b9c37628",
      "metadata": {},
      "source": [
        "<p style=\"font-family:Roboto; font-size: 22px; color: orange; text-decoration-line: overline; \"> Part 3 : _Intersection of two sorted arrays</p>"
      ]
    },
    {
      "cell_type": "code",
      "execution_count": null,
      "id": "9cf4994d",
      "metadata": {},
      "outputs": [],
      "source": [
        "''' Given two sorted arrays arr1[] and arr2[]. Your task is to return the intersection of both arrays.\n",
        "\n",
        "Intersection of two arrays is said to be elements that are common in both arrays. \n",
        "The intersection should not count duplicate elements.\n",
        "\n",
        "Note: If there is no intersection then return an empty array.'''"
      ]
    },
    {
      "cell_type": "code",
      "execution_count": null,
      "id": "cc6da0b0",
      "metadata": {},
      "outputs": [],
      "source": [
        "'''Input: arr1[] = [1, 2, 3, 4], arr2[] = [2, 4, 6, 7, 8]\n",
        "Output: [2, 4]\n",
        "Explanation: 2 and 4 are only common elements in both the arrays.'''"
      ]
    },
    {
      "cell_type": "code",
      "execution_count": 48,
      "id": "05da1df5",
      "metadata": {},
      "outputs": [],
      "source": [
        "\n",
        "class Solution:\n",
        "    #Function to return a list containing the intersection of two arrays.\n",
        "    def intersection(self, arr1, arr2):\n",
        "        # result = list(filter(lambda x: x in arr1, arr2))\n",
        "        # return result\n",
        "        res = []\n",
        "        arr1 = set(arr1)\n",
        "\n",
        "        for num in arr2:\n",
        "            if num in arr1:\n",
        "                res.append(num)\n",
        "                arr1.remove(num)\n",
        "\n",
        "        return res\n",
        " "
      ]
    },
    {
      "cell_type": "code",
      "execution_count": 49,
      "id": "ae8223c3",
      "metadata": {},
      "outputs": [
        {
          "data": {
            "text/plain": [
              "[2, 4]"
            ]
          },
          "execution_count": 49,
          "metadata": {},
          "output_type": "execute_result"
        }
      ],
      "source": [
        "a = [1, 2, 3, 4]\n",
        "b = [2, 4, 6, 7, 8]\n",
        "p1 = Solution()\n",
        "p1.intersection(a, b)"
      ]
    },
    {
      "cell_type": "code",
      "execution_count": null,
      "id": "14f3f098",
      "metadata": {},
      "outputs": [],
      "source": []
    }
  ],
  "metadata": {
    "accelerator": "GPU",
    "colab": {
      "gpuType": "T4",
      "provenance": []
    },
    "kernelspec": {
      "display_name": "base",
      "language": "python",
      "name": "python3"
    },
    "language_info": {
      "codemirror_mode": {
        "name": "ipython",
        "version": 3
      },
      "file_extension": ".py",
      "mimetype": "text/x-python",
      "name": "python",
      "nbconvert_exporter": "python",
      "pygments_lexer": "ipython3",
      "version": "3.12.7"
    }
  },
  "nbformat": 4,
  "nbformat_minor": 5
}
